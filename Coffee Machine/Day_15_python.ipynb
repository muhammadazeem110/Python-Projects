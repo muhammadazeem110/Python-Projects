{
 "cells": [
  {
   "cell_type": "markdown",
   "metadata": {},
   "source": [
    "## Coffee Machine"
   ]
  },
  {
   "cell_type": "code",
   "execution_count": 41,
   "metadata": {},
   "outputs": [],
   "source": [
    "MENU = {\n",
    "    \"espresso\": {\n",
    "        \"ingredients\": {\n",
    "            \"water\": 50,\n",
    "            \"milk\": 0,\n",
    "            \"coffee\": 18,\n",
    "        },\n",
    "        \"cost\": 1.5,\n",
    "    },\n",
    "    \"latte\": {\n",
    "        \"ingredients\": {\n",
    "            \"water\": 200,\n",
    "            \"milk\": 150,\n",
    "            \"coffee\": 24,\n",
    "        },\n",
    "        \"cost\": 2.5,\n",
    "    },\n",
    "    \"cappuccino\": {\n",
    "        \"ingredients\": {\n",
    "            \"water\": 250,\n",
    "            \"milk\": 100,\n",
    "            \"coffee\": 24,\n",
    "        },\n",
    "        \"cost\": 3.0,\n",
    "    },\n",
    "}\n",
    "\n",
    "profit = 0\n",
    "resources = {\n",
    "    \"water\": 300,\n",
    "    \"milk\": 200,\n",
    "    \"coffee\": 100,\n",
    "}"
   ]
  },
  {
   "cell_type": "code",
   "execution_count": 42,
   "metadata": {},
   "outputs": [],
   "source": [
    "def current_resources():\n",
    "    \"\"\"\n",
    "    Prints the current resources in the machine, including water, milk, coffee, and profit.\n",
    "\n",
    "    Parameters:\n",
    "    None\n",
    "\n",
    "    Returns:\n",
    "    None\n",
    "    \"\"\"\n",
    "    water = resources[\"water\"]\n",
    "    milk = resources[\"milk\"]\n",
    "    coffee = resources[\"coffee\"]\n",
    "    print(\"Total resources in the Machine : \")\n",
    "    print(f\"Water : {water}ml\\nMilk : {milk}ml\\nCoffee : {coffee}g\")\n",
    "    print(f\"Money : ${profit}\")\n"
   ]
  },
  {
   "cell_type": "code",
   "execution_count": 43,
   "metadata": {},
   "outputs": [],
   "source": [
    "def is_resource_available(coffee_type):\n",
    "    \"\"\"\n",
    "    Check if the required resources for a given coffee type are available.\n",
    "\n",
    "    Args:\n",
    "        coffee_type (str): The type of coffee to check.\n",
    "\n",
    "    Returns:\n",
    "        bool: True if all the required resources are available, False otherwise.\n",
    "    \"\"\"\n",
    "    water_required = MENU[coffee_type][\"ingredients\"][\"water\"]\n",
    "    milk_required = MENU[coffee_type][\"ingredients\"][\"milk\"]\n",
    "    coffee_required = MENU[coffee_type][\"ingredients\"][\"coffee\"]\n",
    "    \n",
    "    return (water_required <= resources[\"water\"] and \n",
    "            milk_required <= resources[\"milk\"] and \n",
    "            coffee_required <= resources[\"coffee\"])"
   ]
  },
  {
   "cell_type": "code",
   "execution_count": 44,
   "metadata": {},
   "outputs": [],
   "source": [
    "def check_given_amount(total_amount, coffee_type):\n",
    "    \"\"\"\n",
    "    Checks if the given amount is sufficient to purchase the coffee.\n",
    "\n",
    "    Parameters:\n",
    "    total_amount (float): The total amount of money provided.\n",
    "    coffee_type (str): The type of coffee to be purchased.\n",
    "\n",
    "    Returns:\n",
    "    bool: True if the total amount is enough, False otherwise.\n",
    "    \"\"\"\n",
    "    cost = MENU[coffee_type][\"cost\"]\n",
    "    return total_amount >= cost"
   ]
  },
  {
   "cell_type": "code",
   "execution_count": 45,
   "metadata": {},
   "outputs": [],
   "source": [
    "def taking_coins():\n",
    "    \"\"\"\n",
    "    This function prompts the user to insert coins and calculates the total value of the coins inserted.\n",
    "\n",
    "    Returns:\n",
    "    total_coins (float): The total value of the coins inserted.\n",
    "    \"\"\"\n",
    "    print(\"Please insert coins.\")\n",
    "    quarter = float(input(\"How many quarters : $\"))\n",
    "    dimes = float(input(\"How many dimes : $\"))\n",
    "    nickles =  float(input(\"How many nickles : $\"))\n",
    "    pennies =  float(input(\"How many pennies : $\"))\n",
    "    total_coins = quarter * 0.25 + dimes * 0.10 + nickles * 0.05 + pennies * 0.01\n",
    "    return total_coins"
   ]
  },
  {
   "cell_type": "code",
   "execution_count": 46,
   "metadata": {},
   "outputs": [],
   "source": [
    "def is_transaction_successful(money_received, drink_cost):\n",
    "    \"\"\"\n",
    "    Checks if the transaction is successful based on the amount of money received and the cost of the drink.\n",
    "\n",
    "    Args:\n",
    "        money_received (float): The amount of money received from the customer.\n",
    "        drink_cost (float): The cost of the drink.\n",
    "\n",
    "    Returns:\n",
    "        bool: True if the transaction is successful, False otherwise.\n",
    "    \"\"\"\n",
    "    if money_received >= drink_cost:\n",
    "        return_change = round(total_coins - MENU[request][\"cost\"], 2)\n",
    "        if return_change != 0:\n",
    "            print(f\"Here is ${return_change} in change.\")\n",
    "        global profit\n",
    "        profit += MENU[request][\"cost\"]\n",
    "        return True\n",
    "    else:\n",
    "        print(\"Sorry that's not enough money. Money Refunded.\")\n",
    "        return False"
   ]
  },
  {
   "cell_type": "code",
   "execution_count": 47,
   "metadata": {},
   "outputs": [],
   "source": [
    "def make_coffee(drink_name, ingredients):\n",
    "    \"\"\"\n",
    "    Make coffee with the given drink name and ingredients.\n",
    "\n",
    "    Parameters:\n",
    "    - drink_name (str): The name of the coffee drink.\n",
    "    - ingredients (dict): A dictionary containing the required ingredients and their quantities.\n",
    "\n",
    "    Returns:\n",
    "    None\n",
    "    \"\"\"\n",
    "    # Deduct the resources\n",
    "    for item in ingredients:\n",
    "        resources[item] -= ingredients[item]\n",
    "        print(f\"Remaining {item} : {resources[item]}\")\n",
    "    print(f\"Here is your {drink_name}☕ Enjoy!\")\n"
   ]
  },
  {
   "cell_type": "code",
   "execution_count": 48,
   "metadata": {},
   "outputs": [
    {
     "name": "stdout",
     "output_type": "stream",
     "text": [
      "Please insert coins.\n",
      "Here is $3.42 in change.\n",
      "Remaining water : 250\n",
      "Remaining milk : 200\n",
      "Remaining coffee : 82\n",
      "Here is your espresso☕ Enjoy!\n",
      "Please insert coins.\n",
      "Sorry that's not enough money. Money Refunded.\n",
      "Please insert coins.\n",
      "Here is $2.42 in change.\n",
      "Remaining water : 50\n",
      "Remaining milk : 50\n",
      "Remaining coffee : 58\n",
      "Here is your latte☕ Enjoy!\n",
      "Sorry there is not enough resources.\n",
      "Please insert coins.\n",
      "Here is $3.42 in change.\n",
      "Remaining water : 0\n",
      "Remaining milk : 50\n",
      "Remaining coffee : 40\n",
      "Here is your espresso☕ Enjoy!\n",
      "Sorry there is not enough resources.\n",
      "Total resources in the Machine : \n",
      "Water : 0ml\n",
      "Milk : 50ml\n",
      "Coffee : 40g\n",
      "Money : $5.5\n",
      "Coffee Machine Power off.\n"
     ]
    }
   ],
   "source": [
    "\n",
    "end_machine = False\n",
    "while not end_machine:\n",
    "    request = input(\"What would you like? (espresso/latte/cappuccino) : \").lower()\n",
    "    if request == 'report':\n",
    "        current_resources()\n",
    "    elif request == 'off':\n",
    "        print(\"Coffee Machine Power off.\")\n",
    "        end_machine = True\n",
    "    elif request in MENU:\n",
    "        if is_resource_available(request):\n",
    "            total_coins = taking_coins()\n",
    "            if is_transaction_successful(total_coins, MENU[request][\"cost\"]):\n",
    "                make_coffee(request ,MENU[request][\"ingredients\"])\n",
    "        else:\n",
    "            print(\"Sorry there is not enough resources.\")\n",
    "    else:\n",
    "        print(\"Invalid selection. Please choose espresso, latte, or cappuccino.\")\n"
   ]
  }
 ],
 "metadata": {
  "kernelspec": {
   "display_name": "Python 3",
   "language": "python",
   "name": "python3"
  },
  "language_info": {
   "codemirror_mode": {
    "name": "ipython",
    "version": 3
   },
   "file_extension": ".py",
   "mimetype": "text/x-python",
   "name": "python",
   "nbconvert_exporter": "python",
   "pygments_lexer": "ipython3",
   "version": "3.12.4"
  }
 },
 "nbformat": 4,
 "nbformat_minor": 2
}
