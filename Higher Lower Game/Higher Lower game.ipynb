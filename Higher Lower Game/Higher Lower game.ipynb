{
 "cells": [
  {
   "cell_type": "markdown",
   "metadata": {},
   "source": [
    "## Higher Lower Game"
   ]
  },
  {
   "cell_type": "markdown",
   "metadata": {},
   "source": [
    "- **import library and other data from files**"
   ]
  },
  {
   "cell_type": "code",
   "execution_count": 109,
   "metadata": {},
   "outputs": [
    {
     "name": "stdout",
     "output_type": "stream",
     "text": [
      "\n",
      "    __  ___       __             \n",
      "   / / / (_)___ _/ /_  ___  _____\n",
      "  / /_/ / / __ `/ __ \\/ _ \\/ ___/\n",
      " / __  / / /_/ / / / /  __/ /    \n",
      "/_/ ///_/\\__, /_/ /_/\\___/_/     \n",
      "   / /  /____/_      _____  _____\n",
      "  / /   / __ \\ | /| / / _ \\/ ___/\n",
      " / /___/ /_/ / |/ |/ /  __/ /    \n",
      "/_____/\\____/|__/|__/\\___/_/     \n",
      "\n"
     ]
    }
   ],
   "source": [
    "import random\n",
    "\n",
    "from higher_lower_art import logo , vs\n",
    "print(logo)\n",
    "\n",
    "from higher_lower_date import data"
   ]
  },
  {
   "cell_type": "markdown",
   "metadata": {},
   "source": [
    "- **Make a function for selecting random person index**"
   ]
  },
  {
   "cell_type": "code",
   "execution_count": 110,
   "metadata": {},
   "outputs": [],
   "source": [
    "def select_random_person_index():\n",
    "    person_index = random.randint(0,49)\n",
    "    return person_index"
   ]
  },
  {
   "cell_type": "markdown",
   "metadata": {},
   "source": [
    "- **Make a function for follower counts and return statments according to given inputs**"
   ]
  },
  {
   "cell_type": "code",
   "execution_count": 111,
   "metadata": {},
   "outputs": [],
   "source": [
    "def compare_follower_counts(follower_count_A, follower_count_B, user_choice):\n",
    "    if follower_count_A > follower_count_B:\n",
    "        return user_choice == \"A\"\n",
    "    else:\n",
    "        return user_choice == \"B\""
   ]
  },
  {
   "cell_type": "code",
   "execution_count": 112,
   "metadata": {},
   "outputs": [
    {
     "name": "stdout",
     "output_type": "stream",
     "text": [
      "Compare A : Cristiano Ronaldo, a Footballer, from Portugal. \n",
      "\n",
      " _    __    \n",
      "| |  / /____\n",
      "| | / / ___/\n",
      "| |/ (__  ) \n",
      "|___/____(_)\n",
      "\n",
      "Against B : Real Madrid CF, a Football club, from Spain.\n",
      "You're right! Current score: 1.\n",
      "Compare A : Real Madrid CF, a Football club, from Spain. \n",
      "\n",
      " _    __    \n",
      "| |  / /____\n",
      "| | / / ___/\n",
      "| |/ (__  ) \n",
      "|___/____(_)\n",
      "\n",
      "Against B : Kevin Hart, a Comedian and actor, from United States.\n",
      "You're right! Current score: 2.\n",
      "Compare A : Kevin Hart, a Comedian and actor, from United States. \n",
      "\n",
      " _    __    \n",
      "| |  / /____\n",
      "| | / / ___/\n",
      "| |/ (__  ) \n",
      "|___/____(_)\n",
      "\n",
      "Against B : Beyoncé, a Musician, from United States.\n",
      "You're right! Current score: 3.\n",
      "Compare A : Beyoncé, a Musician, from United States. \n",
      "\n",
      " _    __    \n",
      "| |  / /____\n",
      "| | / / ___/\n",
      "| |/ (__  ) \n",
      "|___/____(_)\n",
      "\n",
      "Against B : Instagram, a Social media platform, from United States.\n",
      "You're right! Current score: 4.\n",
      "Compare A : Instagram, a Social media platform, from United States. \n",
      "\n",
      " _    __    \n",
      "| |  / /____\n",
      "| | / / ___/\n",
      "| |/ (__  ) \n",
      "|___/____(_)\n",
      "\n",
      "Against B : Kendall Jenner, a Reality TV personality and Model, from United States.\n",
      "You're right! Current score: 5.\n",
      "Compare A : Kendall Jenner, a Reality TV personality and Model, from United States. \n",
      "\n",
      " _    __    \n",
      "| |  / /____\n",
      "| | / / ___/\n",
      "| |/ (__  ) \n",
      "|___/____(_)\n",
      "\n",
      "Against B : Beyoncé, a Musician, from United States.\n",
      "You're right! Current score: 6.\n",
      "Compare A : Beyoncé, a Musician, from United States. \n",
      "\n",
      " _    __    \n",
      "| |  / /____\n",
      "| | / / ___/\n",
      "| |/ (__  ) \n",
      "|___/____(_)\n",
      "\n",
      "Against B : Demi Lovato, a Musician and actress, from United States.\n",
      "You're right! Current score: 7.\n",
      "Compare A : Demi Lovato, a Musician and actress, from United States. \n",
      "\n",
      " _    __    \n",
      "| |  / /____\n",
      "| | / / ___/\n",
      "| |/ (__  ) \n",
      "|___/____(_)\n",
      "\n",
      "Against B : Ronaldinho, a Footballer, from Brasil.\n",
      "You're right! Current score: 8.\n",
      "Compare A : Ronaldinho, a Footballer, from Brasil. \n",
      "\n",
      " _    __    \n",
      "| |  / /____\n",
      "| | / / ___/\n",
      "| |/ (__  ) \n",
      "|___/____(_)\n",
      "\n",
      "Against B : NBA, a Club Basketball Competition, from United States.\n",
      "Sorry, that's wrong. Final score: 8\n"
     ]
    }
   ],
   "source": [
    "score = 0\n",
    "current_person = data[select_random_person_index()]\n",
    "\n",
    "end_game = False\n",
    "while not end_game:\n",
    "    # Showing the data of first person until the game is not end\n",
    "    print(f\"Compare A : {current_person[\"name\"]}, a {current_person[\"description\"]}, from {current_person[\"country\"]}. \")\n",
    "    print(vs)\n",
    "    \n",
    "    # generate a random number and show data of that index person\n",
    "    challenger_person = data[select_random_person_index()]\n",
    "    print(f\"Against B : {challenger_person[\"name\"]}, a {challenger_person[\"description\"]}, from {challenger_person[\"country\"]}.\")\n",
    "\n",
    "    # getting an input from the users to see if he/she get the right answer\n",
    "    user_answer = input(\"Who has more followers? Type 'A' or 'B' \").upper()\n",
    "\n",
    "    # if the user answer is correct score increased otherwise game end\n",
    "    is_correct = compare_follower_counts(current_person[\"follower_count\"], challenger_person[\"follower_count\"], user_answer)\n",
    "    if is_correct:\n",
    "        score += 1\n",
    "        print(f\"You're right! Current score: {score}.\")\n",
    "        current_person = challenger_person\n",
    "    else:\n",
    "        print(f\"Sorry, that's wrong. Final score: {score}\")\n",
    "        end_game = True\n"
   ]
  }
 ],
 "metadata": {
  "kernelspec": {
   "display_name": "Python 3",
   "language": "python",
   "name": "python3"
  },
  "language_info": {
   "codemirror_mode": {
    "name": "ipython",
    "version": 3
   },
   "file_extension": ".py",
   "mimetype": "text/x-python",
   "name": "python",
   "nbconvert_exporter": "python",
   "pygments_lexer": "ipython3",
   "version": "3.12.4"
  }
 },
 "nbformat": 4,
 "nbformat_minor": 2
}
