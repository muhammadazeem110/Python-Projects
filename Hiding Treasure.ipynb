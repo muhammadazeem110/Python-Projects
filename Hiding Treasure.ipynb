{
 "cells": [
  {
   "cell_type": "markdown",
   "metadata": {},
   "source": [
    "# Hiding your Treasure! X mark on the spot"
   ]
  },
  {
   "cell_type": "markdown",
   "metadata": {},
   "source": [
    "- **Printing the map and taking an input**"
   ]
  },
  {
   "cell_type": "code",
   "execution_count": 8,
   "metadata": {},
   "outputs": [
    {
     "name": "stdout",
     "output_type": "stream",
     "text": [
      "Welcome to the Hidden City, Where you can hide your Treasure!\n",
      "For hiding your Treasure. X mark on the spot!\n"
     ]
    }
   ],
   "source": [
    "print(\"Welcome to the Hidden City, Where you can hide your Treasure!\")\n",
    "line1 = [\"██\",  \"██\",  \"██\"]\n",
    "line2 = [\"██\",  \"██\",  \"██\"]\n",
    "line3 = [\"██\",  \"██\",  \"██\"]\n",
    "map = [line1, line2, line3]\n",
    "print(\"For hiding your Treasure. X mark on the spot!\")\n",
    "#Taking spot from the Users for hiding\n",
    "position = input(\"Where you want to hide your treasure?\")"
   ]
  },
  {
   "cell_type": "markdown",
   "metadata": {},
   "source": [
    "- **Marking the spot**"
   ]
  },
  {
   "cell_type": "code",
   "execution_count": 9,
   "metadata": {},
   "outputs": [
    {
     "name": "stdout",
     "output_type": "stream",
     "text": [
      "['██', '██', '██']\n",
      "['██', '██', '██']\n",
      "['██', '██', 'X']\n"
     ]
    }
   ],
   "source": [
    "# letter = position[0]\n",
    "abc = [\"A\", \"B\" , \"C\"]\n",
    "letter_index = abc.index(position[0]) #if letter is \"B\" at position[0], abc.index(\"B\") returns 1 because \"B\" is at index 1 in the list abc.\n",
    "number_index = int(position[1]) - 1\n",
    "map[number_index][letter_index] = 'X'\n",
    "\n",
    "# print the spot where treasure is hiding\n",
    "print(f\"{line1}\\n{line2}\\n{line3}\")"
   ]
  }
 ],
 "metadata": {
  "kernelspec": {
   "display_name": "Python 3",
   "language": "python",
   "name": "python3"
  },
  "language_info": {
   "codemirror_mode": {
    "name": "ipython",
    "version": 3
   },
   "file_extension": ".py",
   "mimetype": "text/x-python",
   "name": "python",
   "nbconvert_exporter": "python",
   "pygments_lexer": "ipython3",
   "version": "3.12.4"
  }
 },
 "nbformat": 4,
 "nbformat_minor": 2
}
