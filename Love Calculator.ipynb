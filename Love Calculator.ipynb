{
 "cells": [
  {
   "cell_type": "markdown",
   "metadata": {},
   "source": [
    "# Love Calculator"
   ]
  },
  {
   "cell_type": "markdown",
   "metadata": {},
   "source": [
    "- **Taking the two lovers name**"
   ]
  },
  {
   "cell_type": "code",
   "execution_count": 1,
   "metadata": {},
   "outputs": [
    {
     "name": "stdout",
     "output_type": "stream",
     "text": [
      "The love calculator is calculating your love score...\n"
     ]
    }
   ],
   "source": [
    "print(\"The love calculator is calculating your love score...\")\n",
    "name1 = input(\"What is your name? \")\n",
    "name2 = input(\"What is your love name? \")"
   ]
  },
  {
   "cell_type": "markdown",
   "metadata": {},
   "source": [
    "- **Find the lettera TRUELOVE in their names**"
   ]
  },
  {
   "cell_type": "code",
   "execution_count": 2,
   "metadata": {},
   "outputs": [],
   "source": [
    "word = name1.lower() + name2.lower()\n",
    "T = word.count('t')\n",
    "r = word.count('r')\n",
    "u = word.count('u')\n",
    "e = word.count('e')\n",
    "first_digit = T + r + u + e\n",
    "L = word.count('l')\n",
    "o = word.count('o')\n",
    "v = word.count('v')\n",
    "e = word.count('e')\n",
    "second_digit = L + o + v + e"
   ]
  },
  {
   "cell_type": "markdown",
   "metadata": {},
   "source": [
    "- **Generate the love score on the base of True Love letters in their names**"
   ]
  },
  {
   "cell_type": "code",
   "execution_count": 3,
   "metadata": {},
   "outputs": [
    {
     "name": "stdout",
     "output_type": "stream",
     "text": [
      "Your love score is 44, You are already together.\n"
     ]
    }
   ],
   "source": [
    "love_digits = int(str(first_digit) + str(second_digit))\n",
    "if (love_digits >= 40) and (love_digits <= 50):\n",
    "    print(f\"Your love score is {love_digits}, You are already together.\")\n",
    "elif (love_digits < 10) or (love_digits >90):\n",
    "    print(f\"Your love score is {love_digits}, you go together like Coke and Mantos.\")\n",
    "else :\n",
    "    print(f\"Your score is {love_digits}.\")"
   ]
  }
 ],
 "metadata": {
  "kernelspec": {
   "display_name": "Python 3",
   "language": "python",
   "name": "python3"
  },
  "language_info": {
   "codemirror_mode": {
    "name": "ipython",
    "version": 3
   },
   "file_extension": ".py",
   "mimetype": "text/x-python",
   "name": "python",
   "nbconvert_exporter": "python",
   "pygments_lexer": "ipython3",
   "version": "3.12.4"
  }
 },
 "nbformat": 4,
 "nbformat_minor": 2
}
