{
 "cells": [
  {
   "cell_type": "markdown",
   "metadata": {},
   "source": [
    "# Treasure Island Game"
   ]
  },
  {
   "cell_type": "markdown",
   "metadata": {},
   "source": [
    "- **Printing the Treasure Box**"
   ]
  },
  {
   "cell_type": "code",
   "execution_count": null,
   "metadata": {},
   "outputs": [],
   "source": [
    "print(r'''*******************************************************************************\n",
    "          |                   |                  |                     |\n",
    " _________|________________.=\"\"_;=.______________|_____________________|_______\n",
    "|                   |  ,-\"_,=\"\"     `\"=.|                  |\n",
    "|___________________|__\"=._o`\"-._        `\"=.______________|___________________\n",
    "          |                `\"=._o`\"=._      _`\"=._                     |\n",
    " _________|_____________________:=._o \"=._.\"_.-=\"'\"=.__________________|_______\n",
    "|                   |    __.--\" , ; `\"=._o.\" ,-\"\"\"-._ \".   |\n",
    "|___________________|_._\"  ,. .` ` `` ,  `\"-._\"-._   \". '__|___________________\n",
    "          |           |o`\"=._` , \"` `; .\". ,  \"-._\"-._; ;              |\n",
    " _________|___________| ;`-.o`\"=._; .\" ` '`.\"\\` . \"-._ /_______________|_______\n",
    "|                   | |o;    `\"-.o`\"=._``  '` \" ,__.--o;   |\n",
    "|___________________|_| ;     (#) `-.o `\"=.`_.--\"_o.-; ;___|___________________\n",
    "____/______/______/___|o;._    \"      `\".o|o_.--\"    ;o;____/______/______/____\n",
    "/______/______/______/_\"=._o--._        ; | ;        ; ;/______/______/______/_\n",
    "____/______/______/______/__\"=._o--._   ;o|o;     _._;o;____/______/______/____\n",
    "/______/______/______/______/____\"=._o._; | ;_.--\"o.--\"_/______/______/______/_\n",
    "____/______/______/______/______/_____\"=.o|o_.--\"\"___/______/______/______/____\n",
    "/______/______/______/______/______/______/______/______/______/______/_____/__\n",
    "*******************************************************************************''')\n",
    "print(\"Welcome to Treasure Island!\\nYour mission is to find the hidden treasure.\\nYou're at a cross road. Where you want to go ?\")"
   ]
  },
  {
   "cell_type": "markdown",
   "metadata": {},
   "source": [
    "- **Taking input and and then continue game**"
   ]
  },
  {
   "cell_type": "code",
   "execution_count": null,
   "metadata": {},
   "outputs": [],
   "source": [
    "cross_decision = input('Type \"left\" or \"right\"')\n",
    "if cross_decision == 'right':\n",
    "    print(\"You fell into a hole. Game Over.\")\n",
    "else :\n",
    "    print(\"You've come to a lake. There is an island in the middle of the lake.\")\n",
    "    lake_decision = input('Type \"wait\" to wait for a boat. Type \"swim\" to swim across.')\n",
    "    if lake_decision == 'swim':\n",
    "        print(\"You get attacked by an angry trout. Game Over.\")\n",
    "    else:\n",
    "        print(\"You arrive at the island unharmed. There is a house with 3 doors.\")\n",
    "        door_decision = input(\"One red, one yellow and one blue. Which colour do you choose?\")\n",
    "        if door_decision == 'yellow':\n",
    "            print(\"You found the treasure! You Win!\")\n",
    "        elif door_decision == 'red':\n",
    "            print(\"You enter room full of fire. Burned by fire.Game Over\")\n",
    "        elif door_decision == 'blue':\n",
    "            print(\"You enter room full of beasts. Eaten by beasts.Game Over.\")\n",
    "        else:\n",
    "            print(\"Game OVer.\")"
   ]
  }
 ],
 "metadata": {
  "kernelspec": {
   "display_name": "Python 3",
   "language": "python",
   "name": "python3"
  },
  "language_info": {
   "codemirror_mode": {
    "name": "ipython",
    "version": 3
   },
   "file_extension": ".py",
   "mimetype": "text/x-python",
   "name": "python",
   "nbconvert_exporter": "python",
   "pygments_lexer": "ipython3",
   "version": "3.12.4"
  }
 },
 "nbformat": 4,
 "nbformat_minor": 2
}
