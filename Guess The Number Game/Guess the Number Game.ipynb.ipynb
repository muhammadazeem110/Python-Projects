{
 "cells": [
  {
   "cell_type": "markdown",
   "metadata": {},
   "source": [
    "# Guess the number game"
   ]
  },
  {
   "cell_type": "markdown",
   "metadata": {},
   "source": [
    "- **Import library and logo**"
   ]
  },
  {
   "cell_type": "code",
   "execution_count": 5,
   "metadata": {},
   "outputs": [
    {
     "name": "stdout",
     "output_type": "stream",
     "text": [
      "\n",
      "  ________                                __  .__              _______               ___.                 \n",
      " /  _____/ __ __   ____   ______ ______ _/  |_|  |__   ____    \\      \\  __ __  _____\\_ |__   ___________ \n",
      "/   \\  ___|  |  \\_/ __ \\ /  ___//  ___/ \\   __\\  |  \\_/ __ \\   /   |   \\|  |  \\/     \\| __ \\_/ __ \\_  __ |\n",
      "\\    \\_\\  \\  |  /\\  ___/ \\___ \\ \\___ \\   |  | |   Y  \\  ___/  /    |    \\  |  /  Y Y  \\ \\_\\ \\  ___/|  | \\/\n",
      " \\______  /____/  \\___  >____  >____  >  |__| |___|  /\\___  > \\____|__  /____/|__|_|  /___  /\\___  >__|   \n",
      "        \\/            \\/     \\/     \\/             \\/     \\/          \\/            \\/    \\/     \\/       \n",
      "\n"
     ]
    }
   ],
   "source": [
    "import random\n",
    "from Guess_the_number_art import logo\n",
    "\n",
    "print(logo)"
   ]
  },
  {
   "cell_type": "markdown",
   "metadata": {},
   "source": [
    "- **Make a function to return the number of attempts to play game according to game level**"
   ]
  },
  {
   "cell_type": "code",
   "execution_count": 2,
   "metadata": {},
   "outputs": [],
   "source": [
    "def game_playing_level(game_level):\n",
    "    \"\"\"Return the number of attempts based on the game level.\"\"\"\n",
    "    if game_level == 'easy':\n",
    "         return 10\n",
    "    else:\n",
    "        return 5"
   ]
  },
  {
   "cell_type": "markdown",
   "metadata": {},
   "source": [
    "- **Make another function to check the guess and print the output according to the guess**"
   ]
  },
  {
   "cell_type": "code",
   "execution_count": 3,
   "metadata": {},
   "outputs": [],
   "source": [
    "def check_guess(computer_guess, user_guess, gaming_attempts):\n",
    "    \"\"\"Check the answer against guess.Return the remaining guesses.\"\"\"\n",
    "    if computer_guess == user_guess :\n",
    "        print(f\"You got it! The answer was {computer_guess}. Congratulation 🎉\")\n",
    "    elif computer_guess > user_guess:\n",
    "        print(\"Too low.\")\n",
    "    else:\n",
    "        print(\"Too high.\")\n",
    "    return gaming_attempts -1"
   ]
  },
  {
   "cell_type": "markdown",
   "metadata": {},
   "source": [
    "- **Taking all the inputs and then play according to the games rules**"
   ]
  },
  {
   "cell_type": "code",
   "execution_count": 4,
   "metadata": {},
   "outputs": [
    {
     "name": "stdout",
     "output_type": "stream",
     "text": [
      "Welcome to the Number Guessing Game!: \n",
      "I'm thinking of a number between 1 and 100.\n",
      "18\n",
      "You have 5 attempts remaining to guess the number.\n",
      "Too high.\n",
      "You still have 4 attempts left!\n",
      "Guess again.\n",
      "Too high.\n",
      "You still have 3 attempts left!\n",
      "Guess again.\n",
      "Too low.\n",
      "You still have 2 attempts left!\n",
      "Guess again.\n",
      "You got it! The answer was 18. Congratulation 🎉\n",
      "You still have 1 attempts left!\n",
      "Thank you for playing!\n",
      "Game Over 👋\n"
     ]
    }
   ],
   "source": [
    "# Game start playing\n",
    "end_game = False\n",
    "while not end_game:\n",
    "    start_game = False\n",
    "    start_decision = input(\"Do you want to play this game ? Type 'y' for play.\")\n",
    "    if start_decision == 'y':\n",
    "        # Print some lines in the start of the game\n",
    "        print(\"Welcome to the Number Guessing Game!: \")\n",
    "        print(\"I'm thinking of a number between 1 and 100.\")\n",
    "        # Computer guess a random number between 1 and 100\n",
    "        computer_guess = random.randint(1, 100)\n",
    "        print(computer_guess)\n",
    "        game_level = input(\"Choose a difficulty. Type 'easy' or 'hard': \")\n",
    "\n",
    "        # if the level is easy then 10 attempts otherwise 5 attempts\n",
    "        gaming_attempts = game_playing_level(game_level)\n",
    "        print(f\"You have {gaming_attempts} attempts remaining to guess the number.\")\n",
    "        \n",
    "        user_guess = 0\n",
    "        while user_guess != computer_guess:\n",
    "            user_guess = int(input(\"Guess the number : \"))\n",
    "            gaming_attempts = check_guess(computer_guess, user_guess, gaming_attempts)\n",
    "            \n",
    "            print(f\"You still have {gaming_attempts} attempts left!\")\n",
    "            \n",
    "            if gaming_attempts == 0 and computer_guess != user_guess:\n",
    "                print(\"You've run out of guesses, you lose.\")\n",
    "                break\n",
    "            elif user_guess != computer_guess:\n",
    "                print(\"Guess again.\")\n",
    "        \n",
    "    else:\n",
    "        end_game = True\n",
    "        print(\"Thank you for playing!\")    \n",
    "                \n",
    "        \n",
    "\n",
    "print(\"Game Over 👋\")\n",
    "\n"
   ]
  }
 ],
 "metadata": {
  "kernelspec": {
   "display_name": "Python 3",
   "language": "python",
   "name": "python3"
  },
  "language_info": {
   "codemirror_mode": {
    "name": "ipython",
    "version": 3
   },
   "file_extension": ".py",
   "mimetype": "text/x-python",
   "name": "python",
   "nbconvert_exporter": "python",
   "pygments_lexer": "ipython3",
   "version": "3.12.4"
  }
 },
 "nbformat": 4,
 "nbformat_minor": 2
}
