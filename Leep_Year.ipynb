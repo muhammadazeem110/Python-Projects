{
 "cells": [
  {
   "cell_type": "markdown",
   "metadata": {},
   "source": [
    "# Find the year is Leap Year or not"
   ]
  },
  {
   "cell_type": "code",
   "execution_count": 1,
   "metadata": {},
   "outputs": [
    {
     "name": "stdout",
     "output_type": "stream",
     "text": [
      "2003 is not leap year.\n"
     ]
    }
   ],
   "source": [
    "# Taking input from the user\n",
    "year = int(input(\"Enter the year to find weather it's leap year or not : \"))\n",
    "if year % 4 == 0:\n",
    "    if year % 100 != 0:\n",
    "        print(f\"{year} is the leap year.\")\n",
    "    else:\n",
    "        if year % 400 == 0:\n",
    "            print(f\"{year} is the leap year.\")\n",
    "        else:\n",
    "            print(f\"{year} is not leap year.\")\n",
    "else:\n",
    "    print(f\"{year} is not leap year.\")"
   ]
  }
 ],
 "metadata": {
  "kernelspec": {
   "display_name": "Python 3",
   "language": "python",
   "name": "python3"
  },
  "language_info": {
   "codemirror_mode": {
    "name": "ipython",
    "version": 3
   },
   "file_extension": ".py",
   "mimetype": "text/x-python",
   "name": "python",
   "nbconvert_exporter": "python",
   "pygments_lexer": "ipython3",
   "version": "3.12.4"
  }
 },
 "nbformat": 4,
 "nbformat_minor": 2
}
