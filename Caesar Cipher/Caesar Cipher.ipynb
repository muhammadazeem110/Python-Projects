{
 "cells": [
  {
   "cell_type": "markdown",
   "metadata": {},
   "source": [
    "# Caesar Cipher"
   ]
  },
  {
   "cell_type": "markdown",
   "metadata": {},
   "source": [
    "- ##### Import logo from the .py file"
   ]
  },
  {
   "cell_type": "code",
   "execution_count": 1,
   "metadata": {},
   "outputs": [
    {
     "name": "stdout",
     "output_type": "stream",
     "text": [
      "           \n",
      " ,adPPYba, ,adPPYYba,  ,adPPYba, ,adPPYba, ,adPPYYba, 8b,dPPYba,  \n",
      "a8\"     \"\" \"\"     `Y8 a8P_____88 I8[    \"\" \"\"     `Y8 88P'   \"Y8  \n",
      "8b         ,adPPPPP88 8PP\"  `\"Y8ba,  ,adPPPPP88 88          \n",
      "\"8a,   ,aa 88,    ,88 \"8b,   ,aa aa    ]8I 88,    ,88 88          \n",
      " `\"Ybbd8\"' `\"8bbdP\"Y8  `\"Ybbd8\"' `\"YbbdP\"' `\"8bbdP\"Y8 88   \n",
      "                                                          \n",
      "           \"\"             88                                 \n",
      "                          88                                 \n",
      " ,adPPYba, 88 8b,dPPYba,  88,dPPYba,   ,adPPYba, 8b,dPPYba,  \n",
      "a8\"     \"\" 88 88P'    \"8a 88P'    \"8a a8P_____88 88P'   \"Y8  \n",
      "8b         88 88       d8 88       88 8PP  88          \n",
      "\"8a,   ,aa 88 88b,   ,a8\" 88       88 \"8b,   ,aa 88          \n",
      " `\"Ybbd8\"' 88 88`YbbdP\"'  88       88  `\"Ybbd8\"' 88          \n",
      "              88                                             \n",
      "              88           \n",
      "\n"
     ]
    }
   ],
   "source": [
    "from cipher_art import logo\n",
    "print(logo)\n",
    "\n",
    "alphabet = ['a', 'b', 'c', 'd', 'e', 'f', 'g', 'h', 'i', 'j', 'k', 'l', 'm', 'n', 'o', 'p', 'q', 'r',\n",
    "            's', 't', 'u', 'v', 'w', 'x', 'y', 'z', 'a', 'b', 'c', 'd', 'e', 'f', 'g', 'h', 'i', 'j',\n",
    "            'k', 'l', 'm', 'n', 'o', 'p', 'q', 'r', 's', 't', 'u', 'v', 'w', 'x', 'y', 'z']"
   ]
  },
  {
   "cell_type": "markdown",
   "metadata": {},
   "source": [
    "- ##### While loop to ask again if they want other message to encode/decode"
   ]
  },
  {
   "cell_type": "code",
   "execution_count": 3,
   "metadata": {},
   "outputs": [
    {
     "name": "stdout",
     "output_type": "stream",
     "text": [
      "Here's the encoded result : g yk k.yxcck, rfc bctcjmncp ylb kyrf jmtcp.\n",
      "Here's the decoded result : i am m.azeem, the developer and math lover.\n",
      "Good Bye👋\n"
     ]
    }
   ],
   "source": [
    "go_again = True\n",
    "while go_again:\n",
    "    \n",
    "    def caesar(plain_text, shift_num, choice):\n",
    "        new_shift_num = shift_num % 26\n",
    "        cipher_text = \"\"\n",
    "        if choice == 'decode':\n",
    "            new_shift_num *= -1\n",
    "        for char in plain_text:\n",
    "            if char in alphabet:\n",
    "                index_of_letter = alphabet.index(char)\n",
    "                encode_index = int(index_of_letter + new_shift_num)\n",
    "                cipher_text += alphabet[encode_index]\n",
    "            elif char.isdigit():\n",
    "                cipher_text += char\n",
    "            else :\n",
    "                cipher_text += char\n",
    "        print(f\"Here's the {choice}d result : {cipher_text}\")\n",
    "\n",
    "\n",
    "    choice = input(\"Type 'encode' to encrypt, type 'decode' to decrypt:\")\n",
    "    message = input(\"Type your message : \").lower()\n",
    "    shift = int(input(\"Type the shift number:\"))\n",
    "\n",
    "    if choice == 'encode' or choice == 'decode':\n",
    "        caesar(message, shift, choice)\n",
    "    else:\n",
    "        print(\"Invalid input.\")\n",
    "        \n",
    "    run_again = input(\"Type 'yes' if you want to go again. Otherwise type 'no'.\")\n",
    "    if run_again == 'no':\n",
    "            go_again = False\n",
    "            print(\"Good Bye👋\")"
   ]
  }
 ],
 "metadata": {
  "kernelspec": {
   "display_name": "Python 3",
   "language": "python",
   "name": "python3"
  },
  "language_info": {
   "codemirror_mode": {
    "name": "ipython",
    "version": 3
   },
   "file_extension": ".py",
   "mimetype": "text/x-python",
   "name": "python",
   "nbconvert_exporter": "python",
   "pygments_lexer": "ipython3",
   "version": "3.12.4"
  }
 },
 "nbformat": 4,
 "nbformat_minor": 2
}
