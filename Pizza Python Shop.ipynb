{
 "cells": [
  {
   "cell_type": "markdown",
   "metadata": {},
   "source": [
    "# Pizza Python shop"
   ]
  },
  {
   "cell_type": "markdown",
   "metadata": {},
   "source": [
    "- **Taking input and giving some output**"
   ]
  },
  {
   "cell_type": "code",
   "execution_count": 1,
   "metadata": {},
   "outputs": [
    {
     "name": "stdout",
     "output_type": "stream",
     "text": [
      "Thank you for choosing Pizza Python Delivery!\n",
      "* Small(S) size pizza for $15 \n",
      "* Medium(M) pizza for $20\n",
      "* Large(L) pizza for $25.\n",
      "* Extra Pepperoni for Small size pizza is $2\n",
      "* Extra Pepperoni for Medium large size pizza is $3.\n",
      "* Add Extra Cheese $1.\n"
     ]
    }
   ],
   "source": [
    "print(\"Thank you for choosing Pizza Python Delivery!\")\n",
    "bill = 0\n",
    "print(\n",
    "    \"* Small(S) size pizza for $15 \\n* Medium(M) pizza for $20\\n* Large(L) pizza for $25.\"\n",
    ")\n",
    "size = input(\"What pizza size do you want? \")\n",
    "print(\n",
    "    \"* Extra Pepperoni for Small size pizza is $2\\n* Extra Pepperoni for Medium large size pizza is $3.\"\n",
    ")\n",
    "pepperoni = input(\"Do you want Pepperoni? Y or N : \")\n",
    "print(\"* Add Extra Cheese $1.\")\n",
    "extra_cheese = input(\"Do you want extra cheese? Y or N : \")\n"
   ]
  },
  {
   "cell_type": "markdown",
   "metadata": {},
   "source": [
    "- **Generating bill for the pizza**"
   ]
  },
  {
   "cell_type": "code",
   "execution_count": 2,
   "metadata": {},
   "outputs": [
    {
     "name": "stdout",
     "output_type": "stream",
     "text": [
      "Total Bill for S pizza is $18.\n"
     ]
    }
   ],
   "source": [
    "if size == \"S\":\n",
    "    bill += 15\n",
    "elif size == \"M\":\n",
    "    bill += 20\n",
    "else:\n",
    "    bill += 25\n",
    "\n",
    "if pepperoni == \"Y\":\n",
    "    if size == \"S\":\n",
    "        bill += 2\n",
    "    else:\n",
    "        bill += 3\n",
    "\n",
    "if extra_cheese == \"Y\":\n",
    "    bill += 1\n",
    "\n",
    "print(f\"Total Bill for {size} pizza is ${bill}.\")"
   ]
  }
 ],
 "metadata": {
  "kernelspec": {
   "display_name": "Python 3",
   "language": "python",
   "name": "python3"
  },
  "language_info": {
   "codemirror_mode": {
    "name": "ipython",
    "version": 3
   },
   "file_extension": ".py",
   "mimetype": "text/x-python",
   "name": "python",
   "nbconvert_exporter": "python",
   "pygments_lexer": "ipython3",
   "version": "3.12.4"
  }
 },
 "nbformat": 4,
 "nbformat_minor": 2
}
