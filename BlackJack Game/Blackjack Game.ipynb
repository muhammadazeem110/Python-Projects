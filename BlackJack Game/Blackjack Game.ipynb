{
 "cells": [
  {
   "cell_type": "markdown",
   "metadata": {},
   "source": [
    "# Blackjack Game"
   ]
  },
  {
   "cell_type": "markdown",
   "metadata": {},
   "source": [
    "- ##### import library and logo"
   ]
  },
  {
   "cell_type": "code",
   "execution_count": 5,
   "metadata": {},
   "outputs": [
    {
     "name": "stdout",
     "output_type": "stream",
     "text": [
      "\n",
      ".------.            _     _            _    _            _    \n",
      "|A_  _ |.          | |   | |          | |  (_)          | |   \n",
      "|( \\/ ).-----.     | |__ | | __ _  ___| | ___  __ _  ___| | __\n",
      "| \\  /|K /\\  |     | '_ \\| |/ _` |/ __| |/ / |/ _` |/ __| |/ /\n",
      "|  \\/ | /  \\ |     | |_) | | (_| | (__|   <| | (_| | (__|   < \n",
      "`-----| \\  / |     |_.__/|_|\\__,_|\\___|_|\\_\\ |\\__,_|\\___|_|\\_\\\n",
      "      |  \\/ K|                            _/ |                \n",
      "      `------'                           |__/           \n",
      "\n"
     ]
    }
   ],
   "source": [
    "import random\n",
    "from blackJack_art import logo\n",
    "print(logo)\n",
    "\n"
   ]
  },
  {
   "cell_type": "markdown",
   "metadata": {},
   "source": [
    "- ##### Make a function to give cards to players"
   ]
  },
  {
   "cell_type": "code",
   "execution_count": 6,
   "metadata": {},
   "outputs": [],
   "source": [
    "def give_card():\n",
    "    cards = [2,3,4,5,6,7,8,9,10,'K', 'Q', 'J', 'A']\n",
    "    card = random.choice(cards)\n",
    "    if card == 'k' or card == 'Q' or card == 'J':\n",
    "        return 10\n",
    "    elif card == 'A':\n",
    "        return 11\n",
    "    else:\n",
    "        return card"
   ]
  },
  {
   "cell_type": "markdown",
   "metadata": {},
   "source": [
    "- ##### Calculate function to calculate total Score\n",
    "    **If any player get 21 in the start he wins.**"
   ]
  },
  {
   "cell_type": "code",
   "execution_count": 7,
   "metadata": {},
   "outputs": [],
   "source": [
    "def calculate_score(cards):\n",
    "    if sum(cards) == 21 and len(cards) == 2:\n",
    "        return 0 # # Represents a blackjack\n",
    "    if sum(cards) > 21 and 11 in cards:\n",
    "        cards.remove(11)\n",
    "        cards.append(1)\n",
    "    return sum(cards)"
   ]
  },
  {
   "cell_type": "code",
   "execution_count": 8,
   "metadata": {},
   "outputs": [
    {
     "name": "stdout",
     "output_type": "stream",
     "text": [
      "Your cards: [7, 10], current score: 17\n",
      "Computer's first card: 10\n",
      "Your final hand: [7, 10], final score: 17\n",
      "Computer's final hand: [10, 4, 10], final score: 24\n",
      "You win 😃\n",
      "Your cards: [10, 10], current score: 20\n",
      "Computer's first card: 4\n",
      "Your final hand: [10, 10], final score: 20\n",
      "Computer's final hand: [4, 10, 2, 4], final score: 20\n",
      "It's a draw 🙃\n",
      "Your cards: [10, 10], current score: 20\n",
      "Computer's first card: 10\n",
      "Your final hand: [10, 10], final score: 20\n",
      "Computer's final hand: [10, 9], final score: 19\n",
      "You win 😃\n"
     ]
    }
   ],
   "source": [
    "end_game = False\n",
    "while not end_game:\n",
    "    is_play = input(\"Do you want to play a game of Blackjack? Type 'y' or 'n': \")\n",
    "    if is_play == 'y':\n",
    "        users_cards = [give_card(), give_card()]\n",
    "        computer_cards = [give_card(), give_card()]\n",
    "        \n",
    "        end_adding_cards = False\n",
    "        while not end_adding_cards:\n",
    "            total_users_score = calculate_score(users_cards)\n",
    "            total_computer_score = calculate_score(computer_cards)\n",
    "            print(f\"Your cards: {users_cards}, current score: {total_users_score}\")\n",
    "            print(f\"Computer's first card: {computer_cards[0]}\")\n",
    "            \n",
    "            if total_computer_score == 0 or total_users_score == 0:\n",
    "                end_adding_cards = True\n",
    "            else:\n",
    "                want_new_card = input(\"Type 'y' to get another card, type 'n' to pass: \")\n",
    "                if want_new_card == 'y':\n",
    "                    users_cards.append(give_card())\n",
    "                else:\n",
    "                    end_adding_cards = True\n",
    "                    \n",
    "        while total_computer_score < 17 and total_computer_score != 0:\n",
    "            computer_cards.append(give_card())\n",
    "            total_computer_score = calculate_score(computer_cards)\n",
    "            \n",
    "        print(f\"Your final hand: {users_cards}, final score: {total_users_score}\")\n",
    "        print(f\"Computer's final hand: {computer_cards}, final score: {total_computer_score}\")\n",
    "\n",
    "        if total_users_score > 21:\n",
    "            print(\"You went over. You lose 😭\")\n",
    "        elif total_computer_score > total_users_score and total_computer_score <= 21:\n",
    "            print(\"You lose 😭\")\n",
    "        elif total_computer_score == 21 and total_users_score == 21:\n",
    "            print(\"You Lose 🤧 as opponent has Blackjack.\")\n",
    "        elif total_computer_score == 21:\n",
    "            print(\"You Lose 🤧 as opponent has Blackjack.\")\n",
    "        elif total_users_score == 21:\n",
    "            print(\"Win with a Blackjack 😎\")\n",
    "        elif total_computer_score > 21 or total_users_score > total_computer_score:\n",
    "            print(\"You win 😃\")\n",
    "        elif total_users_score < total_computer_score:\n",
    "            print(\"You lose 😭\")\n",
    "        else:\n",
    "            print(\"It's a draw 🙃\")\n",
    "            \n",
    "        ending_decision = input(\"Do you want to play another game of Blackjack? Type 'y' or 'n': \")\n",
    "        if ending_decision == 'n':\n",
    "            end_game = True\n",
    "                \n",
    "    else:\n",
    "        end_game = True\n",
    "        print(\"Game did not start.\")"
   ]
  }
 ],
 "metadata": {
  "kernelspec": {
   "display_name": "Python 3",
   "language": "python",
   "name": "python3"
  },
  "language_info": {
   "codemirror_mode": {
    "name": "ipython",
    "version": 3
   },
   "file_extension": ".py",
   "mimetype": "text/x-python",
   "name": "python",
   "nbconvert_exporter": "python",
   "pygments_lexer": "ipython3",
   "version": "3.12.4"
  }
 },
 "nbformat": 4,
 "nbformat_minor": 2
}
