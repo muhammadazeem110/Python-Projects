{
 "cells": [
  {
   "cell_type": "markdown",
   "metadata": {},
   "source": [
    "# Check the height and price and photo at Roller Coster"
   ]
  },
  {
   "cell_type": "code",
   "execution_count": 1,
   "metadata": {},
   "outputs": [
    {
     "name": "stdout",
     "output_type": "stream",
     "text": [
      "2003 is not leap year.\n"
     ]
    }
   ],
   "source": [
    "print(\"Welcome to Roller Coster!\")\n",
    "height = float(input(\"Enter your Height in cm: \"))\n",
    "if height > 120:\n",
    "    print(\"You can ride the roller coster.\")\n",
    "    age = int(input(\"Enter your age : \"))\n",
    "    # Generating ticket price\n",
    "    if age < 12 :\n",
    "        ticket = int(5)\n",
    "        print(\"child Ticket price is $5.\")\n",
    "    elif age < 18:\n",
    "        ticket = int(7)\n",
    "        print(\"Young Ticker price is $7.\")\n",
    "    elif age > 40 and age < 55:\n",
    "        ticket = int(0)\n",
    "        print(\"Everthing is going to be okay.You can have a free ride on us!\")\n",
    "    else:\n",
    "        ticket = int(12)\n",
    "        print(\"Adult Ticket price is $12.\")\n",
    "\n",
    "    # Want a photo at roller coster\n",
    "    photo = input(\"Want a photo at roller coster? (y/n)\")\n",
    "    if photo == \"Y\":\n",
    "        if age >= 40 and age <= 55:\n",
    "            ticket +=0\n",
    "            print(f\"Total Ticket including photo for Adult is ${ticket}.\")\n",
    "        else :\n",
    "            ticket += 3\n",
    "            print(f\"Total Ticket price including photo is ${ticket}.\")\n",
    "    else:\n",
    "        print(f\"Ticket price without photo is ${ticket}.\")\n",
    "else:\n",
    "    print(\"Sorry! You can't ride the roller coster.You have to grow more taller\")"
   ]
  }
 ],
 "metadata": {
  "kernelspec": {
   "display_name": "Python 3",
   "language": "python",
   "name": "python3"
  },
  "language_info": {
   "codemirror_mode": {
    "name": "ipython",
    "version": 3
   },
   "file_extension": ".py",
   "mimetype": "text/x-python",
   "name": "python",
   "nbconvert_exporter": "python",
   "pygments_lexer": "ipython3",
   "version": "3.12.4"
  }
 },
 "nbformat": 4,
 "nbformat_minor": 2
}
