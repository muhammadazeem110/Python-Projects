{
 "cells": [
  {
   "cell_type": "markdown",
   "metadata": {},
   "source": [
    "# Paper, Rock, Scissors Game"
   ]
  },
  {
   "cell_type": "markdown",
   "metadata": {},
   "source": [
    "- **Import library**\n",
    "- **Taking an input**"
   ]
  },
  {
   "cell_type": "code",
   "execution_count": 5,
   "metadata": {},
   "outputs": [],
   "source": [
    "import random\n",
    "\n",
    "user_choice = int(input(\"What do you choose? Type 0 for Rock, 1 for Paper or 2 for Scissors.\"))\n",
    "rock = '''\n",
    "    _______\n",
    "---'   ____)\n",
    "      (_____)\n",
    "      (_____)\n",
    "      (____)\n",
    "---.__(___)\n",
    "'''\n",
    "paper = '''\n",
    "    _______\n",
    "---'   ____)____\n",
    "          ______)\n",
    "          _______)\n",
    "         _______)\n",
    "---.__________)\n",
    "'''\n",
    "scissors = '''\n",
    "    _______\n",
    "---'   ____)____\n",
    "          ______)\n",
    "       __________)\n",
    "      (____)\n",
    "---.__(___)\n",
    "'''"
   ]
  },
  {
   "cell_type": "markdown",
   "metadata": {},
   "source": [
    "- **Printing the user choice**\n",
    "- **Computer get a random choice from the rock , paper, scissor**\n",
    "- **On some rules, the game will be played.**"
   ]
  },
  {
   "cell_type": "code",
   "execution_count": 6,
   "metadata": {},
   "outputs": [
    {
     "name": "stdout",
     "output_type": "stream",
     "text": [
      "User choice : 1\n",
      "\n",
      "    _______\n",
      "---'   ____)____\n",
      "          ______)\n",
      "          _______)\n",
      "         _______)\n",
      "---.__________)\n",
      "\n",
      "Computer Choice : 0\n",
      "\n",
      "    _______\n",
      "---'   ____)\n",
      "      (_____)\n",
      "      (_____)\n",
      "      (____)\n",
      "---.__(___)\n",
      "\n",
      "User Wins!\n"
     ]
    }
   ],
   "source": [
    "print(f\"User choice : {user_choice}\")\n",
    "if user_choice > 2 or user_choice < 0:\n",
    "    print(\"You typed an Invalid choice. You lose!\")\n",
    "else:\n",
    "    game_image = [rock, paper, scissors]\n",
    "    \n",
    "    print(game_image[user_choice])\n",
    "        \n",
    "    system_choice = random.randint(0, len(game_image)-1)\n",
    "    print(f\"Computer Choice : {system_choice}\")\n",
    "    print(game_image[system_choice])\n",
    "\n",
    "    if system_choice == 0 and user_choice == 2:\n",
    "        print(\"Computer wins!\")\n",
    "    elif system_choice == 2 and user_choice == 0:\n",
    "        print(\"User wins!\")\n",
    "    elif system_choice > user_choice:\n",
    "        print(\"Computer Wins!\")\n",
    "    elif system_choice < user_choice:\n",
    "        print(\"User Wins!\")\n",
    "    elif system_choice == user_choice:\n",
    "        print(\"It's a draw\")\n",
    "    else:\n",
    "        print(\"You typed an Invalid choice. You lose!\")"
   ]
  }
 ],
 "metadata": {
  "kernelspec": {
   "display_name": "Python 3",
   "language": "python",
   "name": "python3"
  },
  "language_info": {
   "codemirror_mode": {
    "name": "ipython",
    "version": 3
   },
   "file_extension": ".py",
   "mimetype": "text/x-python",
   "name": "python",
   "nbconvert_exporter": "python",
   "pygments_lexer": "ipython3",
   "version": "3.12.4"
  }
 },
 "nbformat": 4,
 "nbformat_minor": 2
}
