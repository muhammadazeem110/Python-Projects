{
 "cells": [
  {
   "cell_type": "markdown",
   "metadata": {},
   "source": [
    "# PyPassword Generator"
   ]
  },
  {
   "cell_type": "markdown",
   "metadata": {},
   "source": [
    "1) Import Library\n",
    "2) Take input from the user"
   ]
  },
  {
   "cell_type": "code",
   "execution_count": 1,
   "metadata": {},
   "outputs": [
    {
     "name": "stdout",
     "output_type": "stream",
     "text": [
      "Welcome to PyPassword Generator\n"
     ]
    }
   ],
   "source": [
    "import random\n",
    "\n",
    "print(\"Welcome to PyPassword Generator\")\n",
    "ps_letters = int(input(\"How many letters would you like in your password ? \"))\n",
    "ps_numbers = int(input(\"How many numbers would you like in your password ? \"))\n",
    "ps_symbols = int(input(\"How many symbols would you like in your password ? \"))"
   ]
  },
  {
   "cell_type": "markdown",
   "metadata": {},
   "source": [
    "3) First is easy way"
   ]
  },
  {
   "cell_type": "code",
   "execution_count": 2,
   "metadata": {},
   "outputs": [],
   "source": [
    "password = \"\"\n",
    "\n",
    "letters = ['a', 'b', 'c', 'd', 'e', 'f', 'g', 'h', 'i', 'j', 'k', 'l', 'm', 'n', 'o', 'p', 'q', 'r', 's', 't', 'u', 'v', 'w', 'x', 'y', 'z', 'A', 'B', 'C', 'D', 'E', 'F', 'G', 'H', 'I', 'J', 'K', 'L', 'M', 'N', 'O', 'P', 'Q', 'R', 'S', 'T', 'U', 'V', 'W', 'X', 'Y', 'Z']\n",
    "numbers = ['0', '1', '2', '3', '4', '5', '6', '7', '8', '9']\n",
    "symbols = ['!', '#', '$', '%', '&', '(', ')', '*', '+']\n",
    "# Easy Level #\n",
    "\n",
    "for i in range(0, ps_letters):\n",
    "    password += random.choice(letters)\n",
    "for i in range(0, ps_numbers):\n",
    "    password += random.choice(numbers)\n",
    "for i in range(0, ps_symbols):\n",
    "    password += random.choice(symbols)\n",
    "print(f\"The password is {password}\")\n"
   ]
  },
  {
   "cell_type": "markdown",
   "metadata": {},
   "source": [
    "Here is the hard level "
   ]
  },
  {
   "cell_type": "code",
   "execution_count": 3,
   "metadata": {},
   "outputs": [
    {
     "name": "stdout",
     "output_type": "stream",
     "text": [
      "The password is 9*T66lHRR!94\n"
     ]
    }
   ],
   "source": [
    "# Hard Level #\n",
    "password_list = []\n",
    "for i in range(0, ps_letters):\n",
    "    password_list += random.choice(letters)\n",
    "for i in range(0, ps_numbers):\n",
    "    password_list += random.choice(numbers)\n",
    "for i in range(0, ps_symbols):\n",
    "    password_list += random.choice(symbols)\n",
    "\n",
    "# Shuffling the password\n",
    "random.shuffle(password_list)\n",
    "\n",
    "for char in password_list:\n",
    "    password += char\n",
    "\n",
    "print(f\"The password is {password}\")"
   ]
  }
 ],
 "metadata": {
  "kernelspec": {
   "display_name": "Python 3",
   "language": "python",
   "name": "python3"
  },
  "language_info": {
   "codemirror_mode": {
    "name": "ipython",
    "version": 3
   },
   "file_extension": ".py",
   "mimetype": "text/x-python",
   "name": "python",
   "nbconvert_exporter": "python",
   "pygments_lexer": "ipython3",
   "version": "3.12.4"
  }
 },
 "nbformat": 4,
 "nbformat_minor": 2
}
